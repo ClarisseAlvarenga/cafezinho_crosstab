{
  "nbformat": 4,
  "nbformat_minor": 0,
  "metadata": {
    "colab": {
      "name": "Crosstabs_Clarisse.ipynb",
      "provenance": [],
      "collapsed_sections": [],
      "authorship_tag": "ABX9TyMwLi0fA9EgLpIpo3EWj5/R",
      "include_colab_link": true
    },
    "kernelspec": {
      "name": "python3",
      "display_name": "Python 3"
    }
  },
  "cells": [
    {
      "cell_type": "markdown",
      "metadata": {
        "id": "view-in-github",
        "colab_type": "text"
      },
      "source": [
        "<a href=\"https://colab.research.google.com/github/ClarisseAlvarenga/cafezinho_crosstab/blob/main/Crosstabs_Clarisse.ipynb\" target=\"_parent\"><img src=\"https://colab.research.google.com/assets/colab-badge.svg\" alt=\"Open In Colab\"/></a>"
      ]
    },
    {
      "cell_type": "markdown",
      "metadata": {
        "id": "-PlEJauZaNik"
      },
      "source": [
        "# **USANDO O PANDAS CROSSTAB PARA ANÁLISE DE DADOS**"
      ]
    },
    {
      "cell_type": "markdown",
      "metadata": {
        "id": "c84vXgK-aVaq"
      },
      "source": [
        "#### Importando bibliotecas"
      ]
    },
    {
      "cell_type": "code",
      "metadata": {
        "id": "cilnGla1aKM8"
      },
      "source": [
        "import pandas as pd\n",
        "import matplotlib.pyplot as plt\n",
        "import seaborn as sns\n",
        "import numpy as np"
      ],
      "execution_count": 68,
      "outputs": []
    },
    {
      "cell_type": "markdown",
      "metadata": {
        "id": "VfOys-0Lajra"
      },
      "source": [
        "## **Visualização Inicial do Dataset**"
      ]
    },
    {
      "cell_type": "markdown",
      "metadata": {
        "id": "BQccFWhzcs7x"
      },
      "source": [
        "Vamos usar um dataset performance de estudantes em exames, do Kaggle:\n",
        "\n",
        "https://www.kaggle.com/spscientist/students-performance-in-exams?select=StudentsPerformance.csv"
      ]
    },
    {
      "cell_type": "code",
      "metadata": {
        "id": "zhuonfVoahLr"
      },
      "source": [
        "fonte = 'https://raw.githubusercontent.com/ClarisseAlvarenga/cafezinho_crosstab/main/StudentsPerformance.csv'"
      ],
      "execution_count": 80,
      "outputs": []
    },
    {
      "cell_type": "code",
      "metadata": {
        "colab": {
          "base_uri": "https://localhost:8080/",
          "height": 202
        },
        "id": "gdwFMykWeBJb",
        "outputId": "53871003-2f94-4425-cf53-3514e87f1afa"
      },
      "source": [
        "#criando o dataset\n",
        "dados = pd.read_csv(fonte)\n",
        "dados.head()"
      ],
      "execution_count": 81,
      "outputs": [
        {
          "output_type": "execute_result",
          "data": {
            "text/html": [
              "<div>\n",
              "<style scoped>\n",
              "    .dataframe tbody tr th:only-of-type {\n",
              "        vertical-align: middle;\n",
              "    }\n",
              "\n",
              "    .dataframe tbody tr th {\n",
              "        vertical-align: top;\n",
              "    }\n",
              "\n",
              "    .dataframe thead th {\n",
              "        text-align: right;\n",
              "    }\n",
              "</style>\n",
              "<table border=\"1\" class=\"dataframe\">\n",
              "  <thead>\n",
              "    <tr style=\"text-align: right;\">\n",
              "      <th></th>\n",
              "      <th>gender</th>\n",
              "      <th>race/ethnicity</th>\n",
              "      <th>parental level of education</th>\n",
              "      <th>lunch</th>\n",
              "      <th>test preparation course</th>\n",
              "      <th>math score</th>\n",
              "      <th>reading score</th>\n",
              "      <th>writing score</th>\n",
              "    </tr>\n",
              "  </thead>\n",
              "  <tbody>\n",
              "    <tr>\n",
              "      <th>0</th>\n",
              "      <td>female</td>\n",
              "      <td>group B</td>\n",
              "      <td>bachelor's degree</td>\n",
              "      <td>standard</td>\n",
              "      <td>none</td>\n",
              "      <td>72</td>\n",
              "      <td>72</td>\n",
              "      <td>74</td>\n",
              "    </tr>\n",
              "    <tr>\n",
              "      <th>1</th>\n",
              "      <td>female</td>\n",
              "      <td>group C</td>\n",
              "      <td>some college</td>\n",
              "      <td>standard</td>\n",
              "      <td>completed</td>\n",
              "      <td>69</td>\n",
              "      <td>90</td>\n",
              "      <td>88</td>\n",
              "    </tr>\n",
              "    <tr>\n",
              "      <th>2</th>\n",
              "      <td>female</td>\n",
              "      <td>group B</td>\n",
              "      <td>master's degree</td>\n",
              "      <td>standard</td>\n",
              "      <td>none</td>\n",
              "      <td>90</td>\n",
              "      <td>95</td>\n",
              "      <td>93</td>\n",
              "    </tr>\n",
              "    <tr>\n",
              "      <th>3</th>\n",
              "      <td>male</td>\n",
              "      <td>group A</td>\n",
              "      <td>associate's degree</td>\n",
              "      <td>free/reduced</td>\n",
              "      <td>none</td>\n",
              "      <td>47</td>\n",
              "      <td>57</td>\n",
              "      <td>44</td>\n",
              "    </tr>\n",
              "    <tr>\n",
              "      <th>4</th>\n",
              "      <td>male</td>\n",
              "      <td>group C</td>\n",
              "      <td>some college</td>\n",
              "      <td>standard</td>\n",
              "      <td>none</td>\n",
              "      <td>76</td>\n",
              "      <td>78</td>\n",
              "      <td>75</td>\n",
              "    </tr>\n",
              "  </tbody>\n",
              "</table>\n",
              "</div>"
            ],
            "text/plain": [
              "   gender race/ethnicity  ... reading score writing score\n",
              "0  female        group B  ...            72            74\n",
              "1  female        group C  ...            90            88\n",
              "2  female        group B  ...            95            93\n",
              "3    male        group A  ...            57            44\n",
              "4    male        group C  ...            78            75\n",
              "\n",
              "[5 rows x 8 columns]"
            ]
          },
          "metadata": {
            "tags": []
          },
          "execution_count": 81
        }
      ]
    },
    {
      "cell_type": "code",
      "metadata": {
        "colab": {
          "base_uri": "https://localhost:8080/"
        },
        "id": "uhu0By6LdvkE",
        "outputId": "b0666b11-b01b-4d48-a9b4-99669066b03b"
      },
      "source": [
        "#shape\n",
        "dados.shape"
      ],
      "execution_count": 82,
      "outputs": [
        {
          "output_type": "execute_result",
          "data": {
            "text/plain": [
              "(1000, 8)"
            ]
          },
          "metadata": {
            "tags": []
          },
          "execution_count": 82
        }
      ]
    },
    {
      "cell_type": "code",
      "metadata": {
        "id": "btTuqMlgeBkI"
      },
      "source": [
        "dados.columns = dados.columns.str.replace(' ', '_')"
      ],
      "execution_count": 83,
      "outputs": []
    },
    {
      "cell_type": "code",
      "metadata": {
        "colab": {
          "base_uri": "https://localhost:8080/",
          "height": 202
        },
        "id": "qApWL-1seByL",
        "outputId": "4933cf8c-e548-4270-f00a-0bc9d087968f"
      },
      "source": [
        "dados.head()"
      ],
      "execution_count": 84,
      "outputs": [
        {
          "output_type": "execute_result",
          "data": {
            "text/html": [
              "<div>\n",
              "<style scoped>\n",
              "    .dataframe tbody tr th:only-of-type {\n",
              "        vertical-align: middle;\n",
              "    }\n",
              "\n",
              "    .dataframe tbody tr th {\n",
              "        vertical-align: top;\n",
              "    }\n",
              "\n",
              "    .dataframe thead th {\n",
              "        text-align: right;\n",
              "    }\n",
              "</style>\n",
              "<table border=\"1\" class=\"dataframe\">\n",
              "  <thead>\n",
              "    <tr style=\"text-align: right;\">\n",
              "      <th></th>\n",
              "      <th>gender</th>\n",
              "      <th>race/ethnicity</th>\n",
              "      <th>parental_level_of_education</th>\n",
              "      <th>lunch</th>\n",
              "      <th>test_preparation_course</th>\n",
              "      <th>math_score</th>\n",
              "      <th>reading_score</th>\n",
              "      <th>writing_score</th>\n",
              "    </tr>\n",
              "  </thead>\n",
              "  <tbody>\n",
              "    <tr>\n",
              "      <th>0</th>\n",
              "      <td>female</td>\n",
              "      <td>group B</td>\n",
              "      <td>bachelor's degree</td>\n",
              "      <td>standard</td>\n",
              "      <td>none</td>\n",
              "      <td>72</td>\n",
              "      <td>72</td>\n",
              "      <td>74</td>\n",
              "    </tr>\n",
              "    <tr>\n",
              "      <th>1</th>\n",
              "      <td>female</td>\n",
              "      <td>group C</td>\n",
              "      <td>some college</td>\n",
              "      <td>standard</td>\n",
              "      <td>completed</td>\n",
              "      <td>69</td>\n",
              "      <td>90</td>\n",
              "      <td>88</td>\n",
              "    </tr>\n",
              "    <tr>\n",
              "      <th>2</th>\n",
              "      <td>female</td>\n",
              "      <td>group B</td>\n",
              "      <td>master's degree</td>\n",
              "      <td>standard</td>\n",
              "      <td>none</td>\n",
              "      <td>90</td>\n",
              "      <td>95</td>\n",
              "      <td>93</td>\n",
              "    </tr>\n",
              "    <tr>\n",
              "      <th>3</th>\n",
              "      <td>male</td>\n",
              "      <td>group A</td>\n",
              "      <td>associate's degree</td>\n",
              "      <td>free/reduced</td>\n",
              "      <td>none</td>\n",
              "      <td>47</td>\n",
              "      <td>57</td>\n",
              "      <td>44</td>\n",
              "    </tr>\n",
              "    <tr>\n",
              "      <th>4</th>\n",
              "      <td>male</td>\n",
              "      <td>group C</td>\n",
              "      <td>some college</td>\n",
              "      <td>standard</td>\n",
              "      <td>none</td>\n",
              "      <td>76</td>\n",
              "      <td>78</td>\n",
              "      <td>75</td>\n",
              "    </tr>\n",
              "  </tbody>\n",
              "</table>\n",
              "</div>"
            ],
            "text/plain": [
              "   gender race/ethnicity  ... reading_score writing_score\n",
              "0  female        group B  ...            72            74\n",
              "1  female        group C  ...            90            88\n",
              "2  female        group B  ...            95            93\n",
              "3    male        group A  ...            57            44\n",
              "4    male        group C  ...            78            75\n",
              "\n",
              "[5 rows x 8 columns]"
            ]
          },
          "metadata": {
            "tags": []
          },
          "execution_count": 84
        }
      ]
    },
    {
      "cell_type": "markdown",
      "metadata": {
        "id": "8wfwWGR0PYQN"
      },
      "source": [
        "### Cruzando dados com groupby"
      ]
    },
    {
      "cell_type": "code",
      "metadata": {
        "colab": {
          "base_uri": "https://localhost:8080/",
          "height": 110
        },
        "id": "xRaDu8OzOn2q",
        "outputId": "6ba7298c-6bd8-4033-da26-84ec7daf9a16"
      },
      "source": [
        "#usando o groupby\n",
        "matematica_por_genero = pd.DataFrame(dados.groupby('gender')['math_score'].agg(['mean', 'median',  lambda x: x.mode(), 'std'])).reset_index()\n",
        "matematica_por_genero.columns = ['genero', 'media','mediana', 'moda', 'desvio_padrao']\n",
        "matematica_por_genero"
      ],
      "execution_count": 85,
      "outputs": [
        {
          "output_type": "execute_result",
          "data": {
            "text/html": [
              "<div>\n",
              "<style scoped>\n",
              "    .dataframe tbody tr th:only-of-type {\n",
              "        vertical-align: middle;\n",
              "    }\n",
              "\n",
              "    .dataframe tbody tr th {\n",
              "        vertical-align: top;\n",
              "    }\n",
              "\n",
              "    .dataframe thead th {\n",
              "        text-align: right;\n",
              "    }\n",
              "</style>\n",
              "<table border=\"1\" class=\"dataframe\">\n",
              "  <thead>\n",
              "    <tr style=\"text-align: right;\">\n",
              "      <th></th>\n",
              "      <th>genero</th>\n",
              "      <th>media</th>\n",
              "      <th>mediana</th>\n",
              "      <th>moda</th>\n",
              "      <th>desvio_padrao</th>\n",
              "    </tr>\n",
              "  </thead>\n",
              "  <tbody>\n",
              "    <tr>\n",
              "      <th>0</th>\n",
              "      <td>female</td>\n",
              "      <td>63.633205</td>\n",
              "      <td>65</td>\n",
              "      <td>65</td>\n",
              "      <td>15.491453</td>\n",
              "    </tr>\n",
              "    <tr>\n",
              "      <th>1</th>\n",
              "      <td>male</td>\n",
              "      <td>68.728216</td>\n",
              "      <td>69</td>\n",
              "      <td>62</td>\n",
              "      <td>14.356277</td>\n",
              "    </tr>\n",
              "  </tbody>\n",
              "</table>\n",
              "</div>"
            ],
            "text/plain": [
              "   genero      media  mediana  moda  desvio_padrao\n",
              "0  female  63.633205       65    65      15.491453\n",
              "1    male  68.728216       69    62      14.356277"
            ]
          },
          "metadata": {
            "tags": []
          },
          "execution_count": 85
        }
      ]
    },
    {
      "cell_type": "markdown",
      "metadata": {
        "id": "nvtmf_0Wazdu"
      },
      "source": [
        "## **CrossTab**\n",
        "\n",
        "documentação: https://pandas.pydata.org/pandas-docs/stable/reference/api/pandas.crosstab.html"
      ]
    },
    {
      "cell_type": "markdown",
      "metadata": {
        "id": "XoRxYVtnjkJW"
      },
      "source": [
        "#### Fazendo nossa primeira tabela cruzada"
      ]
    },
    {
      "cell_type": "code",
      "metadata": {
        "colab": {
          "base_uri": "https://localhost:8080/",
          "height": 141
        },
        "id": "FepGD1jma2rq",
        "outputId": "f4d847e5-aa87-4819-94c3-baf440bff0f1"
      },
      "source": [
        "#cruzando dados de gênero por tipo de almoço\n",
        "cross = pd.crosstab(index=dados['gender'], columns=dados['lunch'])\n",
        "cross"
      ],
      "execution_count": 86,
      "outputs": [
        {
          "output_type": "execute_result",
          "data": {
            "text/html": [
              "<div>\n",
              "<style scoped>\n",
              "    .dataframe tbody tr th:only-of-type {\n",
              "        vertical-align: middle;\n",
              "    }\n",
              "\n",
              "    .dataframe tbody tr th {\n",
              "        vertical-align: top;\n",
              "    }\n",
              "\n",
              "    .dataframe thead th {\n",
              "        text-align: right;\n",
              "    }\n",
              "</style>\n",
              "<table border=\"1\" class=\"dataframe\">\n",
              "  <thead>\n",
              "    <tr style=\"text-align: right;\">\n",
              "      <th>lunch</th>\n",
              "      <th>free/reduced</th>\n",
              "      <th>standard</th>\n",
              "    </tr>\n",
              "    <tr>\n",
              "      <th>gender</th>\n",
              "      <th></th>\n",
              "      <th></th>\n",
              "    </tr>\n",
              "  </thead>\n",
              "  <tbody>\n",
              "    <tr>\n",
              "      <th>female</th>\n",
              "      <td>189</td>\n",
              "      <td>329</td>\n",
              "    </tr>\n",
              "    <tr>\n",
              "      <th>male</th>\n",
              "      <td>166</td>\n",
              "      <td>316</td>\n",
              "    </tr>\n",
              "  </tbody>\n",
              "</table>\n",
              "</div>"
            ],
            "text/plain": [
              "lunch   free/reduced  standard\n",
              "gender                        \n",
              "female           189       329\n",
              "male             166       316"
            ]
          },
          "metadata": {
            "tags": []
          },
          "execution_count": 86
        }
      ]
    },
    {
      "cell_type": "code",
      "metadata": {
        "colab": {
          "base_uri": "https://localhost:8080/"
        },
        "id": "PqklSNHSE3yw",
        "outputId": "9fa71acf-908c-4317-d918-7444f51cf336"
      },
      "source": [
        "#conferindo o tipo de variável que o crosstab gera\n",
        "type(cross)"
      ],
      "execution_count": 87,
      "outputs": [
        {
          "output_type": "execute_result",
          "data": {
            "text/plain": [
              "pandas.core.frame.DataFrame"
            ]
          },
          "metadata": {
            "tags": []
          },
          "execution_count": 87
        }
      ]
    },
    {
      "cell_type": "markdown",
      "metadata": {
        "id": "6gib9v_6b4Go"
      },
      "source": [
        "### Contando valores por categoria"
      ]
    },
    {
      "cell_type": "code",
      "metadata": {
        "colab": {
          "base_uri": "https://localhost:8080/",
          "height": 263
        },
        "id": "KpAxT1iYb7LI",
        "outputId": "5443ccc3-8a7b-4ad9-e937-4f400aa2e77e"
      },
      "source": [
        "cross = pd.crosstab(columns=dados['test_preparation_course'], index=dados['parental_level_of_education'])\n",
        "cross"
      ],
      "execution_count": 90,
      "outputs": [
        {
          "output_type": "execute_result",
          "data": {
            "text/html": [
              "<div>\n",
              "<style scoped>\n",
              "    .dataframe tbody tr th:only-of-type {\n",
              "        vertical-align: middle;\n",
              "    }\n",
              "\n",
              "    .dataframe tbody tr th {\n",
              "        vertical-align: top;\n",
              "    }\n",
              "\n",
              "    .dataframe thead th {\n",
              "        text-align: right;\n",
              "    }\n",
              "</style>\n",
              "<table border=\"1\" class=\"dataframe\">\n",
              "  <thead>\n",
              "    <tr style=\"text-align: right;\">\n",
              "      <th>test_preparation_course</th>\n",
              "      <th>completed</th>\n",
              "      <th>none</th>\n",
              "    </tr>\n",
              "    <tr>\n",
              "      <th>parental_level_of_education</th>\n",
              "      <th></th>\n",
              "      <th></th>\n",
              "    </tr>\n",
              "  </thead>\n",
              "  <tbody>\n",
              "    <tr>\n",
              "      <th>associate's degree</th>\n",
              "      <td>82</td>\n",
              "      <td>140</td>\n",
              "    </tr>\n",
              "    <tr>\n",
              "      <th>bachelor's degree</th>\n",
              "      <td>46</td>\n",
              "      <td>72</td>\n",
              "    </tr>\n",
              "    <tr>\n",
              "      <th>high school</th>\n",
              "      <td>56</td>\n",
              "      <td>140</td>\n",
              "    </tr>\n",
              "    <tr>\n",
              "      <th>master's degree</th>\n",
              "      <td>20</td>\n",
              "      <td>39</td>\n",
              "    </tr>\n",
              "    <tr>\n",
              "      <th>some college</th>\n",
              "      <td>77</td>\n",
              "      <td>149</td>\n",
              "    </tr>\n",
              "    <tr>\n",
              "      <th>some high school</th>\n",
              "      <td>77</td>\n",
              "      <td>102</td>\n",
              "    </tr>\n",
              "  </tbody>\n",
              "</table>\n",
              "</div>"
            ],
            "text/plain": [
              "test_preparation_course      completed  none\n",
              "parental_level_of_education                 \n",
              "associate's degree                  82   140\n",
              "bachelor's degree                   46    72\n",
              "high school                         56   140\n",
              "master's degree                     20    39\n",
              "some college                        77   149\n",
              "some high school                    77   102"
            ]
          },
          "metadata": {
            "tags": []
          },
          "execution_count": 90
        }
      ]
    },
    {
      "cell_type": "markdown",
      "metadata": {
        "id": "lR43_6VtUrEw"
      },
      "source": [
        "#### Transformando a contagem em porcentagem"
      ]
    },
    {
      "cell_type": "code",
      "metadata": {
        "colab": {
          "base_uri": "https://localhost:8080/",
          "height": 263
        },
        "id": "v88U3IeVUvJ5",
        "outputId": "d0d76e51-6ca8-4c35-88b2-1a449793b0be"
      },
      "source": [
        "pd.crosstab(columns=dados['test_preparation_course'], index=dados['parental_level_of_education'], normalize=True)"
      ],
      "execution_count": 91,
      "outputs": [
        {
          "output_type": "execute_result",
          "data": {
            "text/html": [
              "<div>\n",
              "<style scoped>\n",
              "    .dataframe tbody tr th:only-of-type {\n",
              "        vertical-align: middle;\n",
              "    }\n",
              "\n",
              "    .dataframe tbody tr th {\n",
              "        vertical-align: top;\n",
              "    }\n",
              "\n",
              "    .dataframe thead th {\n",
              "        text-align: right;\n",
              "    }\n",
              "</style>\n",
              "<table border=\"1\" class=\"dataframe\">\n",
              "  <thead>\n",
              "    <tr style=\"text-align: right;\">\n",
              "      <th>test_preparation_course</th>\n",
              "      <th>completed</th>\n",
              "      <th>none</th>\n",
              "    </tr>\n",
              "    <tr>\n",
              "      <th>parental_level_of_education</th>\n",
              "      <th></th>\n",
              "      <th></th>\n",
              "    </tr>\n",
              "  </thead>\n",
              "  <tbody>\n",
              "    <tr>\n",
              "      <th>associate's degree</th>\n",
              "      <td>0.082</td>\n",
              "      <td>0.140</td>\n",
              "    </tr>\n",
              "    <tr>\n",
              "      <th>bachelor's degree</th>\n",
              "      <td>0.046</td>\n",
              "      <td>0.072</td>\n",
              "    </tr>\n",
              "    <tr>\n",
              "      <th>high school</th>\n",
              "      <td>0.056</td>\n",
              "      <td>0.140</td>\n",
              "    </tr>\n",
              "    <tr>\n",
              "      <th>master's degree</th>\n",
              "      <td>0.020</td>\n",
              "      <td>0.039</td>\n",
              "    </tr>\n",
              "    <tr>\n",
              "      <th>some college</th>\n",
              "      <td>0.077</td>\n",
              "      <td>0.149</td>\n",
              "    </tr>\n",
              "    <tr>\n",
              "      <th>some high school</th>\n",
              "      <td>0.077</td>\n",
              "      <td>0.102</td>\n",
              "    </tr>\n",
              "  </tbody>\n",
              "</table>\n",
              "</div>"
            ],
            "text/plain": [
              "test_preparation_course      completed   none\n",
              "parental_level_of_education                  \n",
              "associate's degree               0.082  0.140\n",
              "bachelor's degree                0.046  0.072\n",
              "high school                      0.056  0.140\n",
              "master's degree                  0.020  0.039\n",
              "some college                     0.077  0.149\n",
              "some high school                 0.077  0.102"
            ]
          },
          "metadata": {
            "tags": []
          },
          "execution_count": 91
        }
      ]
    },
    {
      "cell_type": "code",
      "metadata": {
        "colab": {
          "base_uri": "https://localhost:8080/",
          "height": 263
        },
        "id": "hLsyvNHqqh14",
        "outputId": "e100c7d8-979b-4a4f-a4aa-317bf97b734b"
      },
      "source": [
        "#percentual por index\n",
        "pd.crosstab(columns=dados['race/ethnicity'], index=dados['parental_level_of_education'],normalize='index')"
      ],
      "execution_count": 151,
      "outputs": [
        {
          "output_type": "execute_result",
          "data": {
            "text/html": [
              "<div>\n",
              "<style scoped>\n",
              "    .dataframe tbody tr th:only-of-type {\n",
              "        vertical-align: middle;\n",
              "    }\n",
              "\n",
              "    .dataframe tbody tr th {\n",
              "        vertical-align: top;\n",
              "    }\n",
              "\n",
              "    .dataframe thead th {\n",
              "        text-align: right;\n",
              "    }\n",
              "</style>\n",
              "<table border=\"1\" class=\"dataframe\">\n",
              "  <thead>\n",
              "    <tr style=\"text-align: right;\">\n",
              "      <th>race/ethnicity</th>\n",
              "      <th>group A</th>\n",
              "      <th>group B</th>\n",
              "      <th>group C</th>\n",
              "      <th>group D</th>\n",
              "      <th>group E</th>\n",
              "    </tr>\n",
              "    <tr>\n",
              "      <th>parental_level_of_education</th>\n",
              "      <th></th>\n",
              "      <th></th>\n",
              "      <th></th>\n",
              "      <th></th>\n",
              "      <th></th>\n",
              "    </tr>\n",
              "  </thead>\n",
              "  <tbody>\n",
              "    <tr>\n",
              "      <th>associate's degree</th>\n",
              "      <td>0.063063</td>\n",
              "      <td>0.184685</td>\n",
              "      <td>0.351351</td>\n",
              "      <td>0.225225</td>\n",
              "      <td>0.175676</td>\n",
              "    </tr>\n",
              "    <tr>\n",
              "      <th>bachelor's degree</th>\n",
              "      <td>0.101695</td>\n",
              "      <td>0.169492</td>\n",
              "      <td>0.338983</td>\n",
              "      <td>0.237288</td>\n",
              "      <td>0.152542</td>\n",
              "    </tr>\n",
              "    <tr>\n",
              "      <th>high school</th>\n",
              "      <td>0.091837</td>\n",
              "      <td>0.244898</td>\n",
              "      <td>0.326531</td>\n",
              "      <td>0.224490</td>\n",
              "      <td>0.112245</td>\n",
              "    </tr>\n",
              "    <tr>\n",
              "      <th>master's degree</th>\n",
              "      <td>0.050847</td>\n",
              "      <td>0.101695</td>\n",
              "      <td>0.322034</td>\n",
              "      <td>0.389831</td>\n",
              "      <td>0.135593</td>\n",
              "    </tr>\n",
              "    <tr>\n",
              "      <th>some college</th>\n",
              "      <td>0.079646</td>\n",
              "      <td>0.163717</td>\n",
              "      <td>0.305310</td>\n",
              "      <td>0.296460</td>\n",
              "      <td>0.154867</td>\n",
              "    </tr>\n",
              "    <tr>\n",
              "      <th>some high school</th>\n",
              "      <td>0.134078</td>\n",
              "      <td>0.212291</td>\n",
              "      <td>0.273743</td>\n",
              "      <td>0.279330</td>\n",
              "      <td>0.100559</td>\n",
              "    </tr>\n",
              "  </tbody>\n",
              "</table>\n",
              "</div>"
            ],
            "text/plain": [
              "race/ethnicity                group A   group B   group C   group D   group E\n",
              "parental_level_of_education                                                  \n",
              "associate's degree           0.063063  0.184685  0.351351  0.225225  0.175676\n",
              "bachelor's degree            0.101695  0.169492  0.338983  0.237288  0.152542\n",
              "high school                  0.091837  0.244898  0.326531  0.224490  0.112245\n",
              "master's degree              0.050847  0.101695  0.322034  0.389831  0.135593\n",
              "some college                 0.079646  0.163717  0.305310  0.296460  0.154867\n",
              "some high school             0.134078  0.212291  0.273743  0.279330  0.100559"
            ]
          },
          "metadata": {
            "tags": []
          },
          "execution_count": 151
        }
      ]
    },
    {
      "cell_type": "markdown",
      "metadata": {
        "id": "0_t8Uoi2VC5a"
      },
      "source": [
        "#### Usando mais de dois dados para cruzar"
      ]
    },
    {
      "cell_type": "code",
      "metadata": {
        "colab": {
          "base_uri": "https://localhost:8080/",
          "height": 447
        },
        "id": "DQMwqXV8VHlx",
        "outputId": "62d8a7c5-57f9-4674-838a-6f3482b8738f"
      },
      "source": [
        "lista = [dados['gender'], dados['parental_level_of_education']]\n",
        "pd.crosstab(columns=dados['test_preparation_course'], index=lista)"
      ],
      "execution_count": 93,
      "outputs": [
        {
          "output_type": "execute_result",
          "data": {
            "text/html": [
              "<div>\n",
              "<style scoped>\n",
              "    .dataframe tbody tr th:only-of-type {\n",
              "        vertical-align: middle;\n",
              "    }\n",
              "\n",
              "    .dataframe tbody tr th {\n",
              "        vertical-align: top;\n",
              "    }\n",
              "\n",
              "    .dataframe thead th {\n",
              "        text-align: right;\n",
              "    }\n",
              "</style>\n",
              "<table border=\"1\" class=\"dataframe\">\n",
              "  <thead>\n",
              "    <tr style=\"text-align: right;\">\n",
              "      <th></th>\n",
              "      <th>test_preparation_course</th>\n",
              "      <th>completed</th>\n",
              "      <th>none</th>\n",
              "    </tr>\n",
              "    <tr>\n",
              "      <th>gender</th>\n",
              "      <th>parental_level_of_education</th>\n",
              "      <th></th>\n",
              "      <th></th>\n",
              "    </tr>\n",
              "  </thead>\n",
              "  <tbody>\n",
              "    <tr>\n",
              "      <th rowspan=\"6\" valign=\"top\">female</th>\n",
              "      <th>associate's degree</th>\n",
              "      <td>42</td>\n",
              "      <td>74</td>\n",
              "    </tr>\n",
              "    <tr>\n",
              "      <th>bachelor's degree</th>\n",
              "      <td>22</td>\n",
              "      <td>41</td>\n",
              "    </tr>\n",
              "    <tr>\n",
              "      <th>high school</th>\n",
              "      <td>29</td>\n",
              "      <td>65</td>\n",
              "    </tr>\n",
              "    <tr>\n",
              "      <th>master's degree</th>\n",
              "      <td>14</td>\n",
              "      <td>22</td>\n",
              "    </tr>\n",
              "    <tr>\n",
              "      <th>some college</th>\n",
              "      <td>42</td>\n",
              "      <td>76</td>\n",
              "    </tr>\n",
              "    <tr>\n",
              "      <th>some high school</th>\n",
              "      <td>35</td>\n",
              "      <td>56</td>\n",
              "    </tr>\n",
              "    <tr>\n",
              "      <th rowspan=\"6\" valign=\"top\">male</th>\n",
              "      <th>associate's degree</th>\n",
              "      <td>40</td>\n",
              "      <td>66</td>\n",
              "    </tr>\n",
              "    <tr>\n",
              "      <th>bachelor's degree</th>\n",
              "      <td>24</td>\n",
              "      <td>31</td>\n",
              "    </tr>\n",
              "    <tr>\n",
              "      <th>high school</th>\n",
              "      <td>27</td>\n",
              "      <td>75</td>\n",
              "    </tr>\n",
              "    <tr>\n",
              "      <th>master's degree</th>\n",
              "      <td>6</td>\n",
              "      <td>17</td>\n",
              "    </tr>\n",
              "    <tr>\n",
              "      <th>some college</th>\n",
              "      <td>35</td>\n",
              "      <td>73</td>\n",
              "    </tr>\n",
              "    <tr>\n",
              "      <th>some high school</th>\n",
              "      <td>42</td>\n",
              "      <td>46</td>\n",
              "    </tr>\n",
              "  </tbody>\n",
              "</table>\n",
              "</div>"
            ],
            "text/plain": [
              "test_preparation_course             completed  none\n",
              "gender parental_level_of_education                 \n",
              "female associate's degree                  42    74\n",
              "       bachelor's degree                   22    41\n",
              "       high school                         29    65\n",
              "       master's degree                     14    22\n",
              "       some college                        42    76\n",
              "       some high school                    35    56\n",
              "male   associate's degree                  40    66\n",
              "       bachelor's degree                   24    31\n",
              "       high school                         27    75\n",
              "       master's degree                      6    17\n",
              "       some college                        35    73\n",
              "       some high school                    42    46"
            ]
          },
          "metadata": {
            "tags": []
          },
          "execution_count": 93
        }
      ]
    },
    {
      "cell_type": "markdown",
      "metadata": {
        "id": "ivZjzbJRb7vp"
      },
      "source": [
        "### Agregando Funções"
      ]
    },
    {
      "cell_type": "code",
      "metadata": {
        "colab": {
          "base_uri": "https://localhost:8080/"
        },
        "id": "GHAwId9Rb_Rw",
        "outputId": "30f1744f-bee1-40f0-ad76-3b2f76f71b9c"
      },
      "source": [
        "#colunas\n",
        "dados.columns"
      ],
      "execution_count": 95,
      "outputs": [
        {
          "output_type": "execute_result",
          "data": {
            "text/plain": [
              "Index(['gender', 'race/ethnicity', 'parental_level_of_education', 'lunch',\n",
              "       'test_preparation_course', 'math_score', 'reading_score',\n",
              "       'writing_score'],\n",
              "      dtype='object')"
            ]
          },
          "metadata": {
            "tags": []
          },
          "execution_count": 95
        }
      ]
    },
    {
      "cell_type": "code",
      "metadata": {
        "colab": {
          "base_uri": "https://localhost:8080/",
          "height": 202
        },
        "id": "XViKjUP8g7A4",
        "outputId": "6ad5b0ce-2e4e-4ff3-84a7-6785a7180d61"
      },
      "source": [
        "math_gender_lunch = pd.crosstab(index = dados.gender, columns = [dados.lunch, dados['race/ethnicity']],\n",
        "                                aggfunc='median',values=dados.math_score, margins=True, margins_name='Mediana')\n",
        "math_gender_lunch"
      ],
      "execution_count": 122,
      "outputs": [
        {
          "output_type": "execute_result",
          "data": {
            "text/html": [
              "<div>\n",
              "<style scoped>\n",
              "    .dataframe tbody tr th:only-of-type {\n",
              "        vertical-align: middle;\n",
              "    }\n",
              "\n",
              "    .dataframe tbody tr th {\n",
              "        vertical-align: top;\n",
              "    }\n",
              "\n",
              "    .dataframe thead tr th {\n",
              "        text-align: left;\n",
              "    }\n",
              "\n",
              "    .dataframe thead tr:last-of-type th {\n",
              "        text-align: right;\n",
              "    }\n",
              "</style>\n",
              "<table border=\"1\" class=\"dataframe\">\n",
              "  <thead>\n",
              "    <tr>\n",
              "      <th>lunch</th>\n",
              "      <th colspan=\"5\" halign=\"left\">free/reduced</th>\n",
              "      <th colspan=\"5\" halign=\"left\">standard</th>\n",
              "      <th>Mediana</th>\n",
              "    </tr>\n",
              "    <tr>\n",
              "      <th>race/ethnicity</th>\n",
              "      <th>group A</th>\n",
              "      <th>group B</th>\n",
              "      <th>group C</th>\n",
              "      <th>group D</th>\n",
              "      <th>group E</th>\n",
              "      <th>group A</th>\n",
              "      <th>group B</th>\n",
              "      <th>group C</th>\n",
              "      <th>group D</th>\n",
              "      <th>group E</th>\n",
              "      <th></th>\n",
              "    </tr>\n",
              "    <tr>\n",
              "      <th>gender</th>\n",
              "      <th></th>\n",
              "      <th></th>\n",
              "      <th></th>\n",
              "      <th></th>\n",
              "      <th></th>\n",
              "      <th></th>\n",
              "      <th></th>\n",
              "      <th></th>\n",
              "      <th></th>\n",
              "      <th></th>\n",
              "      <th></th>\n",
              "    </tr>\n",
              "  </thead>\n",
              "  <tbody>\n",
              "    <tr>\n",
              "      <th>female</th>\n",
              "      <td>48.0</td>\n",
              "      <td>58.0</td>\n",
              "      <td>53.5</td>\n",
              "      <td>58.0</td>\n",
              "      <td>61.0</td>\n",
              "      <td>60.0</td>\n",
              "      <td>65.0</td>\n",
              "      <td>66.0</td>\n",
              "      <td>69.0</td>\n",
              "      <td>74.5</td>\n",
              "      <td>65</td>\n",
              "    </tr>\n",
              "    <tr>\n",
              "      <th>male</th>\n",
              "      <td>59.5</td>\n",
              "      <td>58.5</td>\n",
              "      <td>61.0</td>\n",
              "      <td>63.5</td>\n",
              "      <td>77.5</td>\n",
              "      <td>66.0</td>\n",
              "      <td>68.5</td>\n",
              "      <td>71.0</td>\n",
              "      <td>73.0</td>\n",
              "      <td>81.0</td>\n",
              "      <td>69</td>\n",
              "    </tr>\n",
              "    <tr>\n",
              "      <th>Mediana</th>\n",
              "      <td>53.0</td>\n",
              "      <td>58.0</td>\n",
              "      <td>59.0</td>\n",
              "      <td>62.0</td>\n",
              "      <td>70.0</td>\n",
              "      <td>64.0</td>\n",
              "      <td>66.0</td>\n",
              "      <td>69.0</td>\n",
              "      <td>71.0</td>\n",
              "      <td>77.0</td>\n",
              "      <td>66</td>\n",
              "    </tr>\n",
              "  </tbody>\n",
              "</table>\n",
              "</div>"
            ],
            "text/plain": [
              "lunch          free/reduced                  ... standard         Mediana\n",
              "race/ethnicity      group A group B group C  ...  group D group E        \n",
              "gender                                       ...                         \n",
              "female                 48.0    58.0    53.5  ...     69.0    74.5      65\n",
              "male                   59.5    58.5    61.0  ...     73.0    81.0      69\n",
              "Mediana                53.0    58.0    59.0  ...     71.0    77.0      66\n",
              "\n",
              "[3 rows x 11 columns]"
            ]
          },
          "metadata": {
            "tags": []
          },
          "execution_count": 122
        }
      ]
    },
    {
      "cell_type": "code",
      "metadata": {
        "colab": {
          "base_uri": "https://localhost:8080/",
          "height": 999
        },
        "id": "2yBPKQC_kSm1",
        "outputId": "bda3fd68-48de-410b-f713-766a45c7630c"
      },
      "source": [
        "math_gender_lunch.T\n"
      ],
      "execution_count": 111,
      "outputs": [
        {
          "output_type": "execute_result",
          "data": {
            "text/html": [
              "<div>\n",
              "<style scoped>\n",
              "    .dataframe tbody tr th:only-of-type {\n",
              "        vertical-align: middle;\n",
              "    }\n",
              "\n",
              "    .dataframe tbody tr th {\n",
              "        vertical-align: top;\n",
              "    }\n",
              "\n",
              "    .dataframe thead th {\n",
              "        text-align: right;\n",
              "    }\n",
              "</style>\n",
              "<table border=\"1\" class=\"dataframe\">\n",
              "  <thead>\n",
              "    <tr style=\"text-align: right;\">\n",
              "      <th></th>\n",
              "      <th></th>\n",
              "      <th>gender</th>\n",
              "      <th>female</th>\n",
              "      <th>male</th>\n",
              "    </tr>\n",
              "    <tr>\n",
              "      <th></th>\n",
              "      <th>lunch</th>\n",
              "      <th>race/ethnicity</th>\n",
              "      <th></th>\n",
              "      <th></th>\n",
              "    </tr>\n",
              "  </thead>\n",
              "  <tbody>\n",
              "    <tr>\n",
              "      <th rowspan=\"10\" valign=\"top\">mean</th>\n",
              "      <th rowspan=\"5\" valign=\"top\">free/reduced</th>\n",
              "      <th>group A</th>\n",
              "      <td>49.928571</td>\n",
              "      <td>58.590909</td>\n",
              "    </tr>\n",
              "    <tr>\n",
              "      <th>group B</th>\n",
              "      <td>56.512821</td>\n",
              "      <td>58.633333</td>\n",
              "    </tr>\n",
              "    <tr>\n",
              "      <th>group C</th>\n",
              "      <td>52.838710</td>\n",
              "      <td>60.673077</td>\n",
              "    </tr>\n",
              "    <tr>\n",
              "      <th>group D</th>\n",
              "      <td>58.039216</td>\n",
              "      <td>64.681818</td>\n",
              "    </tr>\n",
              "    <tr>\n",
              "      <th>group E</th>\n",
              "      <td>61.304348</td>\n",
              "      <td>73.277778</td>\n",
              "    </tr>\n",
              "    <tr>\n",
              "      <th rowspan=\"5\" valign=\"top\">standard</th>\n",
              "      <th>group A</th>\n",
              "      <td>64.000000</td>\n",
              "      <td>67.387097</td>\n",
              "    </tr>\n",
              "    <tr>\n",
              "      <th>group B</th>\n",
              "      <td>64.338462</td>\n",
              "      <td>69.839286</td>\n",
              "    </tr>\n",
              "    <tr>\n",
              "      <th>group C</th>\n",
              "      <td>66.864407</td>\n",
              "      <td>71.758621</td>\n",
              "    </tr>\n",
              "    <tr>\n",
              "      <th>group D</th>\n",
              "      <td>69.961538</td>\n",
              "      <td>71.752809</td>\n",
              "    </tr>\n",
              "    <tr>\n",
              "      <th>group E</th>\n",
              "      <td>75.565217</td>\n",
              "      <td>77.924528</td>\n",
              "    </tr>\n",
              "    <tr>\n",
              "      <th rowspan=\"10\" valign=\"top\">median</th>\n",
              "      <th rowspan=\"5\" valign=\"top\">free/reduced</th>\n",
              "      <th>group A</th>\n",
              "      <td>48.000000</td>\n",
              "      <td>59.500000</td>\n",
              "    </tr>\n",
              "    <tr>\n",
              "      <th>group B</th>\n",
              "      <td>58.000000</td>\n",
              "      <td>58.500000</td>\n",
              "    </tr>\n",
              "    <tr>\n",
              "      <th>group C</th>\n",
              "      <td>53.500000</td>\n",
              "      <td>61.000000</td>\n",
              "    </tr>\n",
              "    <tr>\n",
              "      <th>group D</th>\n",
              "      <td>58.000000</td>\n",
              "      <td>63.500000</td>\n",
              "    </tr>\n",
              "    <tr>\n",
              "      <th>group E</th>\n",
              "      <td>61.000000</td>\n",
              "      <td>77.500000</td>\n",
              "    </tr>\n",
              "    <tr>\n",
              "      <th rowspan=\"5\" valign=\"top\">standard</th>\n",
              "      <th>group A</th>\n",
              "      <td>60.000000</td>\n",
              "      <td>66.000000</td>\n",
              "    </tr>\n",
              "    <tr>\n",
              "      <th>group B</th>\n",
              "      <td>65.000000</td>\n",
              "      <td>68.500000</td>\n",
              "    </tr>\n",
              "    <tr>\n",
              "      <th>group C</th>\n",
              "      <td>66.000000</td>\n",
              "      <td>71.000000</td>\n",
              "    </tr>\n",
              "    <tr>\n",
              "      <th>group D</th>\n",
              "      <td>69.000000</td>\n",
              "      <td>73.000000</td>\n",
              "    </tr>\n",
              "    <tr>\n",
              "      <th>group E</th>\n",
              "      <td>74.500000</td>\n",
              "      <td>81.000000</td>\n",
              "    </tr>\n",
              "    <tr>\n",
              "      <th rowspan=\"10\" valign=\"top\">std</th>\n",
              "      <th rowspan=\"5\" valign=\"top\">free/reduced</th>\n",
              "      <th>group A</th>\n",
              "      <td>12.079635</td>\n",
              "      <td>14.568914</td>\n",
              "    </tr>\n",
              "    <tr>\n",
              "      <th>group B</th>\n",
              "      <td>17.027643</td>\n",
              "      <td>14.329818</td>\n",
              "    </tr>\n",
              "    <tr>\n",
              "      <th>group C</th>\n",
              "      <td>14.931750</td>\n",
              "      <td>12.377591</td>\n",
              "    </tr>\n",
              "    <tr>\n",
              "      <th>group D</th>\n",
              "      <td>14.974593</td>\n",
              "      <td>11.815978</td>\n",
              "    </tr>\n",
              "    <tr>\n",
              "      <th>group E</th>\n",
              "      <td>15.569302</td>\n",
              "      <td>16.997597</td>\n",
              "    </tr>\n",
              "    <tr>\n",
              "      <th rowspan=\"5\" valign=\"top\">standard</th>\n",
              "      <th>group A</th>\n",
              "      <td>12.769010</td>\n",
              "      <td>13.554034</td>\n",
              "    </tr>\n",
              "    <tr>\n",
              "      <th>group B</th>\n",
              "      <td>15.160884</td>\n",
              "      <td>12.524560</td>\n",
              "    </tr>\n",
              "    <tr>\n",
              "      <th>group C</th>\n",
              "      <td>12.648378</td>\n",
              "      <td>13.461371</td>\n",
              "    </tr>\n",
              "    <tr>\n",
              "      <th>group D</th>\n",
              "      <td>11.464731</td>\n",
              "      <td>13.123782</td>\n",
              "    </tr>\n",
              "    <tr>\n",
              "      <th>group E</th>\n",
              "      <td>14.565793</td>\n",
              "      <td>13.235804</td>\n",
              "    </tr>\n",
              "  </tbody>\n",
              "</table>\n",
              "</div>"
            ],
            "text/plain": [
              "gender                                 female       male\n",
              "       lunch        race/ethnicity                      \n",
              "mean   free/reduced group A         49.928571  58.590909\n",
              "                    group B         56.512821  58.633333\n",
              "                    group C         52.838710  60.673077\n",
              "                    group D         58.039216  64.681818\n",
              "                    group E         61.304348  73.277778\n",
              "       standard     group A         64.000000  67.387097\n",
              "                    group B         64.338462  69.839286\n",
              "                    group C         66.864407  71.758621\n",
              "                    group D         69.961538  71.752809\n",
              "                    group E         75.565217  77.924528\n",
              "median free/reduced group A         48.000000  59.500000\n",
              "                    group B         58.000000  58.500000\n",
              "                    group C         53.500000  61.000000\n",
              "                    group D         58.000000  63.500000\n",
              "                    group E         61.000000  77.500000\n",
              "       standard     group A         60.000000  66.000000\n",
              "                    group B         65.000000  68.500000\n",
              "                    group C         66.000000  71.000000\n",
              "                    group D         69.000000  73.000000\n",
              "                    group E         74.500000  81.000000\n",
              "std    free/reduced group A         12.079635  14.568914\n",
              "                    group B         17.027643  14.329818\n",
              "                    group C         14.931750  12.377591\n",
              "                    group D         14.974593  11.815978\n",
              "                    group E         15.569302  16.997597\n",
              "       standard     group A         12.769010  13.554034\n",
              "                    group B         15.160884  12.524560\n",
              "                    group C         12.648378  13.461371\n",
              "                    group D         11.464731  13.123782\n",
              "                    group E         14.565793  13.235804"
            ]
          },
          "metadata": {
            "tags": []
          },
          "execution_count": 111
        }
      ]
    },
    {
      "cell_type": "markdown",
      "metadata": {
        "id": "ckMYPXaQb_0V"
      },
      "source": [
        "### Incluindo Subtotais"
      ]
    },
    {
      "cell_type": "code",
      "metadata": {
        "colab": {
          "base_uri": "https://localhost:8080/",
          "height": 263
        },
        "id": "2LDWnboDkeRY",
        "outputId": "a2eeb527-f24e-4599-dd83-d61b7e95ee06"
      },
      "source": [
        "math_gender_ethnicity = pd.crosstab(columns = dados.gender, index = dados['race/ethnicity'], aggfunc='mean',values=dados.math_score,margins=True)\n",
        "math_gender_ethnicity"
      ],
      "execution_count": 114,
      "outputs": [
        {
          "output_type": "execute_result",
          "data": {
            "text/html": [
              "<div>\n",
              "<style scoped>\n",
              "    .dataframe tbody tr th:only-of-type {\n",
              "        vertical-align: middle;\n",
              "    }\n",
              "\n",
              "    .dataframe tbody tr th {\n",
              "        vertical-align: top;\n",
              "    }\n",
              "\n",
              "    .dataframe thead th {\n",
              "        text-align: right;\n",
              "    }\n",
              "</style>\n",
              "<table border=\"1\" class=\"dataframe\">\n",
              "  <thead>\n",
              "    <tr style=\"text-align: right;\">\n",
              "      <th>gender</th>\n",
              "      <th>female</th>\n",
              "      <th>male</th>\n",
              "      <th>All</th>\n",
              "    </tr>\n",
              "    <tr>\n",
              "      <th>race/ethnicity</th>\n",
              "      <th></th>\n",
              "      <th></th>\n",
              "      <th></th>\n",
              "    </tr>\n",
              "  </thead>\n",
              "  <tbody>\n",
              "    <tr>\n",
              "      <th>group A</th>\n",
              "      <td>58.527778</td>\n",
              "      <td>63.735849</td>\n",
              "      <td>61.629213</td>\n",
              "    </tr>\n",
              "    <tr>\n",
              "      <th>group B</th>\n",
              "      <td>61.403846</td>\n",
              "      <td>65.930233</td>\n",
              "      <td>63.452632</td>\n",
              "    </tr>\n",
              "    <tr>\n",
              "      <th>group C</th>\n",
              "      <td>62.033333</td>\n",
              "      <td>67.611511</td>\n",
              "      <td>64.463950</td>\n",
              "    </tr>\n",
              "    <tr>\n",
              "      <th>group D</th>\n",
              "      <td>65.248062</td>\n",
              "      <td>69.413534</td>\n",
              "      <td>67.362595</td>\n",
              "    </tr>\n",
              "    <tr>\n",
              "      <th>group E</th>\n",
              "      <td>70.811594</td>\n",
              "      <td>76.746479</td>\n",
              "      <td>73.821429</td>\n",
              "    </tr>\n",
              "    <tr>\n",
              "      <th>All</th>\n",
              "      <td>63.633205</td>\n",
              "      <td>68.728216</td>\n",
              "      <td>66.089000</td>\n",
              "    </tr>\n",
              "  </tbody>\n",
              "</table>\n",
              "</div>"
            ],
            "text/plain": [
              "gender             female       male        All\n",
              "race/ethnicity                                 \n",
              "group A         58.527778  63.735849  61.629213\n",
              "group B         61.403846  65.930233  63.452632\n",
              "group C         62.033333  67.611511  64.463950\n",
              "group D         65.248062  69.413534  67.362595\n",
              "group E         70.811594  76.746479  73.821429\n",
              "All             63.633205  68.728216  66.089000"
            ]
          },
          "metadata": {
            "tags": []
          },
          "execution_count": 114
        }
      ]
    },
    {
      "cell_type": "code",
      "metadata": {
        "colab": {
          "base_uri": "https://localhost:8080/",
          "height": 417
        },
        "id": "fTE2yIB_dHI1",
        "outputId": "3b2611d9-f0c4-4f6e-99d0-2100281ac4e2"
      },
      "source": [
        "pd.crosstab(columns = dados.gender, index = [dados['race/ethnicity'], dados['lunch']], \n",
        "            aggfunc='mean',values=dados.math_score,margins=True)"
      ],
      "execution_count": 144,
      "outputs": [
        {
          "output_type": "execute_result",
          "data": {
            "text/html": [
              "<div>\n",
              "<style scoped>\n",
              "    .dataframe tbody tr th:only-of-type {\n",
              "        vertical-align: middle;\n",
              "    }\n",
              "\n",
              "    .dataframe tbody tr th {\n",
              "        vertical-align: top;\n",
              "    }\n",
              "\n",
              "    .dataframe thead th {\n",
              "        text-align: right;\n",
              "    }\n",
              "</style>\n",
              "<table border=\"1\" class=\"dataframe\">\n",
              "  <thead>\n",
              "    <tr style=\"text-align: right;\">\n",
              "      <th></th>\n",
              "      <th>gender</th>\n",
              "      <th>female</th>\n",
              "      <th>male</th>\n",
              "      <th>All</th>\n",
              "    </tr>\n",
              "    <tr>\n",
              "      <th>race/ethnicity</th>\n",
              "      <th>lunch</th>\n",
              "      <th></th>\n",
              "      <th></th>\n",
              "      <th></th>\n",
              "    </tr>\n",
              "  </thead>\n",
              "  <tbody>\n",
              "    <tr>\n",
              "      <th rowspan=\"2\" valign=\"top\">group A</th>\n",
              "      <th>free/reduced</th>\n",
              "      <td>49.928571</td>\n",
              "      <td>58.590909</td>\n",
              "      <td>55.222222</td>\n",
              "    </tr>\n",
              "    <tr>\n",
              "      <th>standard</th>\n",
              "      <td>64.000000</td>\n",
              "      <td>67.387097</td>\n",
              "      <td>65.981132</td>\n",
              "    </tr>\n",
              "    <tr>\n",
              "      <th rowspan=\"2\" valign=\"top\">group B</th>\n",
              "      <th>free/reduced</th>\n",
              "      <td>56.512821</td>\n",
              "      <td>58.633333</td>\n",
              "      <td>57.434783</td>\n",
              "    </tr>\n",
              "    <tr>\n",
              "      <th>standard</th>\n",
              "      <td>64.338462</td>\n",
              "      <td>69.839286</td>\n",
              "      <td>66.884298</td>\n",
              "    </tr>\n",
              "    <tr>\n",
              "      <th rowspan=\"2\" valign=\"top\">group C</th>\n",
              "      <th>free/reduced</th>\n",
              "      <td>52.838710</td>\n",
              "      <td>60.673077</td>\n",
              "      <td>56.412281</td>\n",
              "    </tr>\n",
              "    <tr>\n",
              "      <th>standard</th>\n",
              "      <td>66.864407</td>\n",
              "      <td>71.758621</td>\n",
              "      <td>68.941463</td>\n",
              "    </tr>\n",
              "    <tr>\n",
              "      <th rowspan=\"2\" valign=\"top\">group D</th>\n",
              "      <th>free/reduced</th>\n",
              "      <td>58.039216</td>\n",
              "      <td>64.681818</td>\n",
              "      <td>61.115789</td>\n",
              "    </tr>\n",
              "    <tr>\n",
              "      <th>standard</th>\n",
              "      <td>69.961538</td>\n",
              "      <td>71.752809</td>\n",
              "      <td>70.916168</td>\n",
              "    </tr>\n",
              "    <tr>\n",
              "      <th rowspan=\"2\" valign=\"top\">group E</th>\n",
              "      <th>free/reduced</th>\n",
              "      <td>61.304348</td>\n",
              "      <td>73.277778</td>\n",
              "      <td>66.560976</td>\n",
              "    </tr>\n",
              "    <tr>\n",
              "      <th>standard</th>\n",
              "      <td>75.565217</td>\n",
              "      <td>77.924528</td>\n",
              "      <td>76.828283</td>\n",
              "    </tr>\n",
              "    <tr>\n",
              "      <th>All</th>\n",
              "      <th></th>\n",
              "      <td>63.633205</td>\n",
              "      <td>68.728216</td>\n",
              "      <td>66.089000</td>\n",
              "    </tr>\n",
              "  </tbody>\n",
              "</table>\n",
              "</div>"
            ],
            "text/plain": [
              "gender                          female       male        All\n",
              "race/ethnicity lunch                                        \n",
              "group A        free/reduced  49.928571  58.590909  55.222222\n",
              "               standard      64.000000  67.387097  65.981132\n",
              "group B        free/reduced  56.512821  58.633333  57.434783\n",
              "               standard      64.338462  69.839286  66.884298\n",
              "group C        free/reduced  52.838710  60.673077  56.412281\n",
              "               standard      66.864407  71.758621  68.941463\n",
              "group D        free/reduced  58.039216  64.681818  61.115789\n",
              "               standard      69.961538  71.752809  70.916168\n",
              "group E        free/reduced  61.304348  73.277778  66.560976\n",
              "               standard      75.565217  77.924528  76.828283\n",
              "All                          63.633205  68.728216  66.089000"
            ]
          },
          "metadata": {
            "tags": []
          },
          "execution_count": 144
        }
      ]
    },
    {
      "cell_type": "markdown",
      "metadata": {
        "id": "Hk_Fh57HdINZ"
      },
      "source": [
        "### Criando colunas extras"
      ]
    },
    {
      "cell_type": "code",
      "metadata": {
        "colab": {
          "base_uri": "https://localhost:8080/"
        },
        "id": "Q7D7gisNdNBN",
        "outputId": "635b2c63-8f54-48f2-8554-a1dce82ffa17"
      },
      "source": [
        "dados.isna().sum()"
      ],
      "execution_count": 125,
      "outputs": [
        {
          "output_type": "execute_result",
          "data": {
            "text/plain": [
              "gender                         0\n",
              "race/ethnicity                 0\n",
              "parental_level_of_education    0\n",
              "lunch                          0\n",
              "test_preparation_course        0\n",
              "math_score                     0\n",
              "reading_score                  0\n",
              "writing_score                  0\n",
              "dtype: int64"
            ]
          },
          "metadata": {
            "tags": []
          },
          "execution_count": 125
        }
      ]
    },
    {
      "cell_type": "code",
      "metadata": {
        "id": "hiiyKfbInoE4"
      },
      "source": [
        "cross = pd.crosstab(columns=dados['race/ethnicity'], index=dados['parental_level_of_education'])"
      ],
      "execution_count": 128,
      "outputs": []
    },
    {
      "cell_type": "code",
      "metadata": {
        "colab": {
          "base_uri": "https://localhost:8080/",
          "height": 263
        },
        "id": "SttCK_wCn_Wn",
        "outputId": "a2cf12ff-20ab-492c-b04e-eb1cb64f8ed3"
      },
      "source": [
        "cross"
      ],
      "execution_count": 129,
      "outputs": [
        {
          "output_type": "execute_result",
          "data": {
            "text/html": [
              "<div>\n",
              "<style scoped>\n",
              "    .dataframe tbody tr th:only-of-type {\n",
              "        vertical-align: middle;\n",
              "    }\n",
              "\n",
              "    .dataframe tbody tr th {\n",
              "        vertical-align: top;\n",
              "    }\n",
              "\n",
              "    .dataframe thead th {\n",
              "        text-align: right;\n",
              "    }\n",
              "</style>\n",
              "<table border=\"1\" class=\"dataframe\">\n",
              "  <thead>\n",
              "    <tr style=\"text-align: right;\">\n",
              "      <th>race/ethnicity</th>\n",
              "      <th>group A</th>\n",
              "      <th>group B</th>\n",
              "      <th>group C</th>\n",
              "      <th>group D</th>\n",
              "      <th>group E</th>\n",
              "    </tr>\n",
              "    <tr>\n",
              "      <th>parental_level_of_education</th>\n",
              "      <th></th>\n",
              "      <th></th>\n",
              "      <th></th>\n",
              "      <th></th>\n",
              "      <th></th>\n",
              "    </tr>\n",
              "  </thead>\n",
              "  <tbody>\n",
              "    <tr>\n",
              "      <th>associate's degree</th>\n",
              "      <td>14</td>\n",
              "      <td>41</td>\n",
              "      <td>78</td>\n",
              "      <td>50</td>\n",
              "      <td>39</td>\n",
              "    </tr>\n",
              "    <tr>\n",
              "      <th>bachelor's degree</th>\n",
              "      <td>12</td>\n",
              "      <td>20</td>\n",
              "      <td>40</td>\n",
              "      <td>28</td>\n",
              "      <td>18</td>\n",
              "    </tr>\n",
              "    <tr>\n",
              "      <th>high school</th>\n",
              "      <td>18</td>\n",
              "      <td>48</td>\n",
              "      <td>64</td>\n",
              "      <td>44</td>\n",
              "      <td>22</td>\n",
              "    </tr>\n",
              "    <tr>\n",
              "      <th>master's degree</th>\n",
              "      <td>3</td>\n",
              "      <td>6</td>\n",
              "      <td>19</td>\n",
              "      <td>23</td>\n",
              "      <td>8</td>\n",
              "    </tr>\n",
              "    <tr>\n",
              "      <th>some college</th>\n",
              "      <td>18</td>\n",
              "      <td>37</td>\n",
              "      <td>69</td>\n",
              "      <td>67</td>\n",
              "      <td>35</td>\n",
              "    </tr>\n",
              "    <tr>\n",
              "      <th>some high school</th>\n",
              "      <td>24</td>\n",
              "      <td>38</td>\n",
              "      <td>49</td>\n",
              "      <td>50</td>\n",
              "      <td>18</td>\n",
              "    </tr>\n",
              "  </tbody>\n",
              "</table>\n",
              "</div>"
            ],
            "text/plain": [
              "race/ethnicity               group A  group B  group C  group D  group E\n",
              "parental_level_of_education                                             \n",
              "associate's degree                14       41       78       50       39\n",
              "bachelor's degree                 12       20       40       28       18\n",
              "high school                       18       48       64       44       22\n",
              "master's degree                    3        6       19       23        8\n",
              "some college                      18       37       69       67       35\n",
              "some high school                  24       38       49       50       18"
            ]
          },
          "metadata": {
            "tags": []
          },
          "execution_count": 129
        }
      ]
    },
    {
      "cell_type": "code",
      "metadata": {
        "id": "n7_Y5S2yoIDu"
      },
      "source": [
        "#criando uma coluna\n",
        "cross['percent_group A'] = cross['group A']/cross.sum(axis=1)"
      ],
      "execution_count": 136,
      "outputs": []
    },
    {
      "cell_type": "code",
      "metadata": {
        "colab": {
          "base_uri": "https://localhost:8080/"
        },
        "id": "yUJFTPKCo9OI",
        "outputId": "bc563085-594a-467e-a342-ed013860d967"
      },
      "source": [
        "type(cross)"
      ],
      "execution_count": 138,
      "outputs": [
        {
          "output_type": "execute_result",
          "data": {
            "text/plain": [
              "pandas.core.frame.DataFrame"
            ]
          },
          "metadata": {
            "tags": []
          },
          "execution_count": 138
        }
      ]
    },
    {
      "cell_type": "code",
      "metadata": {
        "colab": {
          "base_uri": "https://localhost:8080/",
          "height": 263
        },
        "id": "UZeFABK6oeMP",
        "outputId": "a390ce0f-1f20-4a86-935d-b648b9ad716c"
      },
      "source": [
        "cross"
      ],
      "execution_count": 137,
      "outputs": [
        {
          "output_type": "execute_result",
          "data": {
            "text/html": [
              "<div>\n",
              "<style scoped>\n",
              "    .dataframe tbody tr th:only-of-type {\n",
              "        vertical-align: middle;\n",
              "    }\n",
              "\n",
              "    .dataframe tbody tr th {\n",
              "        vertical-align: top;\n",
              "    }\n",
              "\n",
              "    .dataframe thead th {\n",
              "        text-align: right;\n",
              "    }\n",
              "</style>\n",
              "<table border=\"1\" class=\"dataframe\">\n",
              "  <thead>\n",
              "    <tr style=\"text-align: right;\">\n",
              "      <th>race/ethnicity</th>\n",
              "      <th>group A</th>\n",
              "      <th>group B</th>\n",
              "      <th>group C</th>\n",
              "      <th>group D</th>\n",
              "      <th>group E</th>\n",
              "      <th>percent_group A</th>\n",
              "    </tr>\n",
              "    <tr>\n",
              "      <th>parental_level_of_education</th>\n",
              "      <th></th>\n",
              "      <th></th>\n",
              "      <th></th>\n",
              "      <th></th>\n",
              "      <th></th>\n",
              "      <th></th>\n",
              "    </tr>\n",
              "  </thead>\n",
              "  <tbody>\n",
              "    <tr>\n",
              "      <th>associate's degree</th>\n",
              "      <td>14</td>\n",
              "      <td>41</td>\n",
              "      <td>78</td>\n",
              "      <td>50</td>\n",
              "      <td>39</td>\n",
              "      <td>0.031532</td>\n",
              "    </tr>\n",
              "    <tr>\n",
              "      <th>bachelor's degree</th>\n",
              "      <td>12</td>\n",
              "      <td>20</td>\n",
              "      <td>40</td>\n",
              "      <td>28</td>\n",
              "      <td>18</td>\n",
              "      <td>0.050847</td>\n",
              "    </tr>\n",
              "    <tr>\n",
              "      <th>high school</th>\n",
              "      <td>18</td>\n",
              "      <td>48</td>\n",
              "      <td>64</td>\n",
              "      <td>44</td>\n",
              "      <td>22</td>\n",
              "      <td>0.045918</td>\n",
              "    </tr>\n",
              "    <tr>\n",
              "      <th>master's degree</th>\n",
              "      <td>3</td>\n",
              "      <td>6</td>\n",
              "      <td>19</td>\n",
              "      <td>23</td>\n",
              "      <td>8</td>\n",
              "      <td>0.025424</td>\n",
              "    </tr>\n",
              "    <tr>\n",
              "      <th>some college</th>\n",
              "      <td>18</td>\n",
              "      <td>37</td>\n",
              "      <td>69</td>\n",
              "      <td>67</td>\n",
              "      <td>35</td>\n",
              "      <td>0.039823</td>\n",
              "    </tr>\n",
              "    <tr>\n",
              "      <th>some high school</th>\n",
              "      <td>24</td>\n",
              "      <td>38</td>\n",
              "      <td>49</td>\n",
              "      <td>50</td>\n",
              "      <td>18</td>\n",
              "      <td>0.067039</td>\n",
              "    </tr>\n",
              "  </tbody>\n",
              "</table>\n",
              "</div>"
            ],
            "text/plain": [
              "race/ethnicity               group A  group B  ...  group E  percent_group A\n",
              "parental_level_of_education                    ...                          \n",
              "associate's degree                14       41  ...       39         0.031532\n",
              "bachelor's degree                 12       20  ...       18         0.050847\n",
              "high school                       18       48  ...       22         0.045918\n",
              "master's degree                    3        6  ...        8         0.025424\n",
              "some college                      18       37  ...       35         0.039823\n",
              "some high school                  24       38  ...       18         0.067039\n",
              "\n",
              "[6 rows x 6 columns]"
            ]
          },
          "metadata": {
            "tags": []
          },
          "execution_count": 137
        }
      ]
    },
    {
      "cell_type": "markdown",
      "metadata": {
        "id": "0pM2cXEEdNkz"
      },
      "source": [
        "### Criando Visualizações"
      ]
    },
    {
      "cell_type": "code",
      "metadata": {
        "colab": {
          "base_uri": "https://localhost:8080/",
          "height": 265
        },
        "id": "2_vLa2badP1N",
        "outputId": "d96eb35e-6036-48e0-a437-01ef70c5fd7e"
      },
      "source": [
        "pd.crosstab(columns=dados['race/ethnicity'], index=dados['parental_level_of_education']).boxplot();\n"
      ],
      "execution_count": 150,
      "outputs": [
        {
          "output_type": "display_data",
          "data": {
            "image/png": "[encoded data removed]",
            "text/plain": [
              "<Figure size 432x288 with 1 Axes>"
            ]
          },
          "metadata": {
            "tags": [],
            "needs_background": "light"
          }
        }
      ]
    },
    {
      "cell_type": "code",
      "metadata": {
        "id": "pYZ6M9AprHOP"
      },
      "source": [
        ""
      ],
      "execution_count": null,
      "outputs": []
    }
  ]
}