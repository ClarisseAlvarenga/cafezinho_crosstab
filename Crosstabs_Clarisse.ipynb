{
  "nbformat": 4,
  "nbformat_minor": 0,
  "metadata": {
    "colab": {
      "name": "Crosstabs_Clarisse.ipynb",
      "provenance": []
    },
    "kernelspec": {
      "name": "python3",
      "display_name": "Python 3"
    }
  },
  "cells": [
    {
      "cell_type": "markdown",
      "metadata": {
        "id": "-PlEJauZaNik"
      },
      "source": [
        "# **USANDO O PANDAS CROSSTAB PARA ANÁLISE DE DADOS**"
      ]
    },
    {
      "cell_type": "markdown",
      "metadata": {
        "id": "c84vXgK-aVaq"
      },
      "source": [
        "#### Importando bibliotecas"
      ]
    },
    {
      "cell_type": "code",
      "metadata": {
        "id": "cilnGla1aKM8"
      },
      "source": [
        "import pandas as pd\n",
        "import matplotlib.pyplot as plt\n",
        "import seaborn as sns\n",
        "import numpy as np"
      ],
      "execution_count": 1,
      "outputs": []
    },
    {
      "cell_type": "markdown",
      "metadata": {
        "id": "VfOys-0Lajra"
      },
      "source": [
        "## **Visualização Inicial do Dataset**"
      ]
    },
    {
      "cell_type": "markdown",
      "metadata": {
        "id": "BQccFWhzcs7x"
      },
      "source": [
        "Vamos usar um dataset performance de estudantes em exames, do Kaggle:\n",
        "\n",
        "https://www.kaggle.com/spscientist/students-performance-in-exams?select=StudentsPerformance.csv"
      ]
    },
    {
      "cell_type": "code",
      "metadata": {
        "id": "zhuonfVoahLr"
      },
      "source": [
        "fonte:"
      ],
      "execution_count": null,
      "outputs": []
    },
    {
      "cell_type": "markdown",
      "metadata": {
        "id": "nvtmf_0Wazdu"
      },
      "source": [
        "## **CrossTab**\n",
        "\n",
        "documentação: https://pandas.pydata.org/pandas-docs/stable/reference/api/pandas.crosstab.html"
      ]
    },
    {
      "cell_type": "code",
      "metadata": {
        "id": "FepGD1jma2rq"
      },
      "source": [
        ""
      ],
      "execution_count": null,
      "outputs": []
    },
    {
      "cell_type": "markdown",
      "metadata": {
        "id": "6gib9v_6b4Go"
      },
      "source": [
        "### Contando valores por categoria"
      ]
    },
    {
      "cell_type": "code",
      "metadata": {
        "id": "KpAxT1iYb7LI"
      },
      "source": [
        ""
      ],
      "execution_count": null,
      "outputs": []
    },
    {
      "cell_type": "markdown",
      "metadata": {
        "id": "ivZjzbJRb7vp"
      },
      "source": [
        "### Agregando Funções"
      ]
    },
    {
      "cell_type": "code",
      "metadata": {
        "id": "GHAwId9Rb_Rw"
      },
      "source": [
        ""
      ],
      "execution_count": null,
      "outputs": []
    },
    {
      "cell_type": "markdown",
      "metadata": {
        "id": "ckMYPXaQb_0V"
      },
      "source": [
        "### Incluindo Subtotais"
      ]
    },
    {
      "cell_type": "code",
      "metadata": {
        "id": "fTE2yIB_dHI1"
      },
      "source": [
        ""
      ],
      "execution_count": null,
      "outputs": []
    },
    {
      "cell_type": "markdown",
      "metadata": {
        "id": "Hk_Fh57HdINZ"
      },
      "source": [
        "### Criando colunas extras"
      ]
    },
    {
      "cell_type": "code",
      "metadata": {
        "id": "Q7D7gisNdNBN"
      },
      "source": [
        ""
      ],
      "execution_count": null,
      "outputs": []
    },
    {
      "cell_type": "markdown",
      "metadata": {
        "id": "0pM2cXEEdNkz"
      },
      "source": [
        "### Criando Visualizações"
      ]
    },
    {
      "cell_type": "code",
      "metadata": {
        "id": "2_vLa2badP1N"
      },
      "source": [
        ""
      ],
      "execution_count": null,
      "outputs": []
    }
  ]
}